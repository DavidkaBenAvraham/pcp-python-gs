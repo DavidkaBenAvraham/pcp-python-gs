{
 "cells": [
  {
   "cell_type": "code",
   "execution_count": 1,
   "id": "89e25952",
   "metadata": {},
   "outputs": [
    {
     "name": "stdout",
     "output_type": "stream",
     "text": [
      "asus\n"
     ]
    }
   ],
   "source": [
    "import pyodbc \n",
    "import pcp\n",
    "import main\n",
    "\n",
    "main.fill_wrksht_new_order()\n",
    "# pcp.fill_wrksht_customers()"
   ]
  },
  {
   "cell_type": "code",
   "execution_count": 2,
   "id": "67057d81",
   "metadata": {},
   "outputs": [],
   "source": [
    "sql = '''\n",
    "SELECT DBO.ordersCustomers.id as orderID, DBO.ordersCustomers.customerId, \n",
    "DBO.customers.Name as customerName, DBO.customers.bezeqPhone, DBO.customers.cellPhone,\n",
    "DBO.ordersCustomers.date1 as orderDate, DBO.ordersCustomers.notes as tlunotLakoah\n",
    "            FROM \n",
    "                DBO.ordersCustomers , DBO.customers\n",
    "             where  DBO.ordersCustomers.customerId = DBO.customers.id \n",
    "            ORDER BY DBO.ordersCustomers.id DESC\n",
    "'''\n",
    "# import manoa\n",
    "\n",
    "# manoa_db = manoa.DB()\n",
    "# print(manoa_db.get_as_dt(sql))"
   ]
  },
  {
   "cell_type": "code",
   "execution_count": 3,
   "id": "56b4929c",
   "metadata": {},
   "outputs": [],
   "source": [
    "# print(main.get_listmodels_from_wrksht())"
   ]
  },
  {
   "cell_type": "code",
   "execution_count": null,
   "id": "9a6ad1b1",
   "metadata": {},
   "outputs": [],
   "source": []
  },
  {
   "cell_type": "code",
   "execution_count": null,
   "id": "1ece88a5",
   "metadata": {},
   "outputs": [],
   "source": []
  },
  {
   "cell_type": "code",
   "execution_count": null,
   "id": "aac0bfac",
   "metadata": {},
   "outputs": [],
   "source": []
  }
 ],
 "metadata": {
  "kernelspec": {
   "display_name": "Python 3",
   "language": "python",
   "name": "python3"
  },
  "language_info": {
   "codemirror_mode": {
    "name": "ipython",
    "version": 3
   },
   "file_extension": ".py",
   "mimetype": "text/x-python",
   "name": "python",
   "nbconvert_exporter": "python",
   "pygments_lexer": "ipython3",
   "version": "3.8.8"
  }
 },
 "nbformat": 4,
 "nbformat_minor": 5
}
