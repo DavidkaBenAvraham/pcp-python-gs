{
 "cells": [
  {
   "cell_type": "code",
   "execution_count": 1,
   "id": "6f98d66b",
   "metadata": {
    "scrolled": true
   },
   "outputs": [
    {
     "name": "stdout",
     "output_type": "stream",
     "text": [
      "[{'50': '', '17/09/2021 23:55:43': '', '': '', 'FALSE': ''}, {'50': '', '17/09/2021 23:55:43': 'מס הזמנה חדשה', '': '', 'FALSE': ''}, {'50': '', '17/09/2021 23:55:43': 'שם לקוח', '': '', 'FALSE': ''}, {'50': '', '17/09/2021 23:55:43': 'טלפון', '': '', 'FALSE': ''}, {'50': '', '17/09/2021 23:55:43': 'לקוח דילר', '': '', 'FALSE': ''}, {'50': '', '17/09/2021 23:55:43': 'מותג מחשב', '': '', 'FALSE': ''}, {'50': '', '17/09/2021 23:55:43': 'דגם מחשב', '': '', 'FALSE': ''}, {'50': '', '17/09/2021 23:55:43': 'מס סידורי או טאג', '': '', 'FALSE': ''}, {'50': '', '17/09/2021 23:55:43': 'תלונות לקוח', '': '', 'FALSE': ''}, {'50': '', '17/09/2021 23:55:43': 'בדיקה בדלפק', '': '', 'FALSE': ''}, {'50': '', '17/09/2021 23:55:43': 'סיסמה מחשב', '': '', 'FALSE': ''}, {'50': '', '17/09/2021 23:55:43': \"אישור 250 ש''ח שעת עבודה\\nאו סכום אחר\", '': '', 'FALSE': ''}, {'50': '', '17/09/2021 23:55:43': 'דחיפות', '': '', 'FALSE': ''}]\n"
     ]
    }
   ],
   "source": [
    "# https://github.com/google/gdata-python-client\n",
    "# https://docs.gspread.org/en/latest/#\n",
    "\n",
    "\n",
    "# https://www.twilio.com/blog/2017/02/an-easy-way-to-read-and-write-to-a-google-spreadsheet-in-python.html\n",
    "\n",
    "import gspread\n",
    "from oauth2client.service_account import ServiceAccountCredentials\n",
    "\n",
    "\n",
    "# use creds to create a client to interact with the Google Drive API\n",
    "scope = ['https://spreadsheets.google.com/feeds']\n",
    "creds = ServiceAccountCredentials.from_json_keyfile_name('pcp-python-gs-11dd4d9f2a40.json', scope)\n",
    "gc = gspread.authorize(creds)\n",
    "\n",
    "# Find a workbook by name and open the first sheet\n",
    "# Make sure you use the right name here.\n",
    "\n",
    "#ss = gc.open(https://docs.google.com/spreadsheets/d/19QXhtuzfPccHqLPLOuvxsVchiHCdoJxTmdSfU_gtrDs)\n",
    "\n",
    "# https://github.com/burnash/gspread\n",
    "ss = gc.open_by_key('19QXhtuzfPccHqLPLOuvxsVchiHCdoJxTmdSfU_gtrDs')\n",
    "\n",
    "# By title\n",
    "wsht_neworder = ss.worksheet(\"הזמנה חדשה\")\n",
    "\n",
    "# shts = ss.worksheets\n",
    "    \n",
    "# Extract and print all of the values\n",
    "list_of_hashes = wsht_neworder.get_all_records()\n",
    "print(list_of_hashes)"
   ]
  },
  {
   "cell_type": "code",
   "execution_count": null,
   "id": "dab3d4f5",
   "metadata": {},
   "outputs": [],
   "source": []
  }
 ],
 "metadata": {
  "kernelspec": {
   "display_name": "Python 3",
   "language": "python",
   "name": "python3"
  },
  "language_info": {
   "codemirror_mode": {
    "name": "ipython",
    "version": 3
   },
   "file_extension": ".py",
   "mimetype": "text/x-python",
   "name": "python",
   "nbconvert_exporter": "python",
   "pygments_lexer": "ipython3",
   "version": "3.8.8"
  }
 },
 "nbformat": 4,
 "nbformat_minor": 5
}
