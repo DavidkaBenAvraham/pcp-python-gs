{
 "cells": [
  {
   "cell_type": "code",
   "execution_count": 3,
   "id": "d0ca4f42",
   "metadata": {},
   "outputs": [
    {
     "name": "stdout",
     "output_type": "stream",
     "text": [
      "https://docs.google.com/spreadsheets/d/1JlpNTXwNAZ-OYz2NP8dP9l98Yqxa6Xwbpkp7BdrAnDI\n"
     ]
    }
   ],
   "source": [
    "\n",
    "\n",
    "# Подключаем библиотеки\n",
    "import httplib2 \n",
    "import apiclient.discovery\n",
    "from oauth2client.service_account import ServiceAccountCredentials\t\n",
    "\n",
    "CREDENTIALS_FILE = 'pcp-python-gs-11dd4d9f2a40.json'  # Имя файла с закрытым ключом, вы должны подставить свое\n",
    "\n",
    "# Читаем ключи из файла\n",
    "credentials = ServiceAccountCredentials.from_json_keyfile_name(CREDENTIALS_FILE, ['https://www.googleapis.com/auth/spreadsheets', 'https://www.googleapis.com/auth/drive'])\n",
    "\n",
    "httpAuth = credentials.authorize(httplib2.Http()) # Авторизуемся в системе\n",
    "service = apiclient.discovery.build('sheets', 'v4', http = httpAuth) # Выбираем работу с таблицами и 4 версию API \n",
    "\n",
    "spreadsheet = service.spreadsheets().create(body = {\n",
    "    'properties': {'title': 'Первый тестовый документ', 'locale': 'ru_RU'},\n",
    "    'sheets': [{'properties': {'sheetType': 'GRID',\n",
    "                               'sheetId': 0,\n",
    "                               'title': 'Лист номер один',\n",
    "                               'gridProperties': {'rowCount': 100, 'columnCount': 15}}}]\n",
    "}).execute()\n",
    "spreadsheetId = spreadsheet['spreadsheetId'] # сохраняем идентификатор файла\n",
    "print('https://docs.google.com/spreadsheets/d/' + spreadsheetId)"
   ]
  },
  {
   "cell_type": "code",
   "execution_count": null,
   "id": "44af12db",
   "metadata": {},
   "outputs": [],
   "source": []
  }
 ],
 "metadata": {
  "kernelspec": {
   "display_name": "Python 3",
   "language": "python",
   "name": "python3"
  },
  "language_info": {
   "codemirror_mode": {
    "name": "ipython",
    "version": 3
   },
   "file_extension": ".py",
   "mimetype": "text/x-python",
   "name": "python",
   "nbconvert_exporter": "python",
   "pygments_lexer": "ipython3",
   "version": "3.8.8"
  }
 },
 "nbformat": 4,
 "nbformat_minor": 5
}
